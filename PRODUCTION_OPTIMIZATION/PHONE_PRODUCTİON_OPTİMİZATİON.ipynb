{
 "cells": [
  {
   "cell_type": "code",
   "execution_count": 1,
   "id": "1a23faba-b625-4e39-80ab-4a1a60749497",
   "metadata": {
    "tags": []
   },
   "outputs": [],
   "source": [
    "#!pip install docplex\n",
    "from docplex.mp.model import Model"
   ]
  },
  {
   "cell_type": "code",
   "execution_count": 2,
   "id": "844d5d0e-7b3d-4e4a-9537-2af1271f807a",
   "metadata": {},
   "outputs": [],
   "source": [
    "m=Model(name='Phone Production')"
   ]
  },
  {
   "cell_type": "markdown",
   "id": "383b3d48-8e85-4f77-a773-5ba711467be7",
   "metadata": {},
   "source": [
    "# **Variables**"
   ]
  },
  {
   "cell_type": "code",
   "execution_count": 3,
   "id": "badb5883-d42e-4158-b6b9-3a9b0d0b091a",
   "metadata": {},
   "outputs": [],
   "source": [
    "#Phone Production Variables\n",
    "foldyphoneproduction=m.continuous_var(name='foldy phone production')\n",
    "tinyphoneproduction=m.continuous_var(name='tiny phone production')"
   ]
  },
  {
   "cell_type": "code",
   "execution_count": 4,
   "id": "7d30c25b-65b4-4d18-9194-6ab1efbb1897",
   "metadata": {},
   "outputs": [],
   "source": [
    "# Production Time Constants\n",
    "foldyphonetime=1.5\n",
    "tinyphonetime=2"
   ]
  },
  {
   "cell_type": "code",
   "execution_count": 5,
   "id": "b6d4e7a6-5d30-4c67-a9b4-9a02d5a31ac6",
   "metadata": {},
   "outputs": [],
   "source": [
    "foldyphonesaleprice=900\n",
    "tinyphonesaleprice=1100"
   ]
  },
  {
   "cell_type": "markdown",
   "id": "d2a7daf6-955b-427d-86aa-c97190e180db",
   "metadata": {},
   "source": [
    "# **Constrains**"
   ]
  },
  {
   "cell_type": "code",
   "execution_count": 8,
   "id": "317989fe-6f28-4b95-9847-ba17a9b4ef25",
   "metadata": {},
   "outputs": [],
   "source": [
    "foldyphoneconstraint=m.add_constraint(foldyphoneproduction>=500)\n",
    "tinyphoneconstraint=m.add_constraint(tinyphoneproduction>=200)"
   ]
  },
  {
   "cell_type": "code",
   "execution_count": 9,
   "id": "146dc40c-0756-44ae-990d-fd41c5d7e2b3",
   "metadata": {},
   "outputs": [],
   "source": [
    "# Production Constraint\n",
    "totalprodconstraint=m.add_constraint(m.sum([tinyphoneproduction*tinyphonetime + foldyphoneproduction*foldyphonetime])<=2999.5)"
   ]
  },
  {
   "cell_type": "markdown",
   "id": "72ce32ea-354d-4d07-a5b5-53520d1fcd07",
   "metadata": {},
   "source": [
    "# **GOALS/OBJ**"
   ]
  },
  {
   "cell_type": "code",
   "execution_count": 10,
   "id": "03de2b2e-bac5-4567-ac30-e107f745dbb9",
   "metadata": {},
   "outputs": [],
   "source": [
    "m.maximize(foldyphoneproduction*foldyphonesaleprice + tinyphoneproduction*tinyphonesaleprice)"
   ]
  },
  {
   "cell_type": "code",
   "execution_count": 11,
   "id": "5bd25958-3c3d-4a5c-b373-a728c9233c23",
   "metadata": {},
   "outputs": [],
   "source": [
    "#!pip install cplex\n",
    "solution=m.solve()"
   ]
  },
  {
   "cell_type": "code",
   "execution_count": 12,
   "id": "2ccd3edf-28f7-4075-8573-9918534b6fd1",
   "metadata": {},
   "outputs": [
    {
     "name": "stdout",
     "output_type": "stream",
     "text": [
      "solution for: Phone Production\n",
      "objective: 1779700.000\n",
      "foldy phone production = 1733.000\n",
      "tiny phone production = 200.000\n"
     ]
    }
   ],
   "source": [
    "solution.display()"
   ]
  },
  {
   "cell_type": "markdown",
   "id": "70957012-ccc9-44fc-8267-821b83834caa",
   "metadata": {},
   "source": [
    "# In this particular production optimization problem, we  acquired a production plan that has;\n",
    "   # * $ 1779700 maximum  profit also; \n",
    "   # * 1733 foldy phones and 200 tiny phones in total"
   ]
  },
  {
   "cell_type": "code",
   "execution_count": null,
   "id": "bc6d0ef0-bd34-4b29-b89e-29a33ff5c4a1",
   "metadata": {},
   "outputs": [],
   "source": []
  }
 ],
 "metadata": {
  "kernelspec": {
   "display_name": "Python 3 (ipykernel)",
   "language": "python",
   "name": "python3"
  },
  "language_info": {
   "codemirror_mode": {
    "name": "ipython",
    "version": 3
   },
   "file_extension": ".py",
   "mimetype": "text/x-python",
   "name": "python",
   "nbconvert_exporter": "python",
   "pygments_lexer": "ipython3",
   "version": "3.9.7"
  }
 },
 "nbformat": 4,
 "nbformat_minor": 5
}
